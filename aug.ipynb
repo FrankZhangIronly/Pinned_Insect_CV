{
 "cells": [
  {
   "cell_type": "code",
   "execution_count": 4,
   "id": "8eca5869-81e5-4caa-b523-373ae70e45ce",
   "metadata": {},
   "outputs": [
    {
     "name": "stderr",
     "output_type": "stream",
     "text": [
      "Processing images: 100%|█████████████████████████████████████████████████████████████| 190/190 [00:09<00:00, 19.59it/s]\n",
      "Drawing boxes: 100%|█████████████████████████████████████████████████████████████████| 190/190 [00:10<00:00, 18.94it/s]\n",
      "Processing images: 100%|███████████████████████████████████████████████████████████████| 83/83 [00:05<00:00, 13.92it/s]\n",
      "Drawing boxes: 100%|███████████████████████████████████████████████████████████████████| 83/83 [00:04<00:00, 20.41it/s]\n"
     ]
    }
   ],
   "source": [
    "from utils import augmentation, visulization\n",
    "\n",
    "base_dir = \"../ALICE_lateral_dorsal/ALICE_dorsal_yolo_pins/train/\"\n",
    "train_crop = augmentation.aug_crop(base_dir)\n",
    "train_vis = visulization.vis_boxes(base_dir)\n",
    "train_crop.crop()\n",
    "train_vis.save_images_boxes(target=\"images_crop\")\n",
    "\n",
    "base_dir = \"../ALICE_lateral_dorsal/ALICE_dorsal_yolo_pins/val/\"\n",
    "train_crop = augmentation.aug_crop(base_dir)\n",
    "train_vis = visulization.vis_boxes(base_dir)\n",
    "train_crop.crop()\n",
    "train_vis.save_images_boxes(target=\"images_crop\")"
   ]
  },
  {
   "cell_type": "code",
   "execution_count": null,
   "id": "dab5612d-4586-44b9-9fac-6c6d6f673df9",
   "metadata": {},
   "outputs": [],
   "source": []
  }
 ],
 "metadata": {
  "kernelspec": {
   "display_name": "Python 3 (ipykernel)",
   "language": "python",
   "name": "python3"
  },
  "language_info": {
   "codemirror_mode": {
    "name": "ipython",
    "version": 3
   },
   "file_extension": ".py",
   "mimetype": "text/x-python",
   "name": "python",
   "nbconvert_exporter": "python",
   "pygments_lexer": "ipython3",
   "version": "3.8.19"
  }
 },
 "nbformat": 4,
 "nbformat_minor": 5
}
