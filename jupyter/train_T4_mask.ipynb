{
 "nbformat": 4,
 "nbformat_minor": 0,
 "metadata": {
  "colab": {
   "provenance": [],
   "gpuType": "T4"
  },
  "kernelspec": {
   "name": "python3",
   "display_name": "Python 3"
  },
  "language_info": {
   "name": "python"
  },
  "accelerator": "GPU"
 },
 "cells": [
  {
   "cell_type": "code",
   "source": [
    "!unzip /content/drive/MyDrive/ALICE/ALICE_other/ALICE_hybrid/hybrid.zip -d /content/drive/MyDrive/ALICE/ALICE_other/ALICE_hybrid/"
   ],
   "metadata": {
    "id": "iGcuTGZ_gtEI"
   },
   "execution_count": null,
   "outputs": []
  },
  {
   "cell_type": "code",
   "source": [
    "from google.colab import drive\n",
    "drive.mount('/content/drive')"
   ],
   "metadata": {
    "colab": {
     "base_uri": "https://localhost:8080/"
    },
    "id": "tnEk9xk57g9u",
    "outputId": "9686cb7d-3a11-44dc-e0eb-64971116a798"
   },
   "execution_count": null,
   "outputs": []
  },
  {
   "cell_type": "code",
   "source": [
    "!pip install ultralytics"
   ],
   "metadata": {
    "colab": {
     "base_uri": "https://localhost:8080/"
    },
    "id": "-eBN79VphB7k",
    "outputId": "d586e937-c5aa-4cd2-b965-4d4787f12ca6"
   },
   "execution_count": null,
   "outputs": []
  },
  {
   "cell_type": "code",
   "source": [
    "# to set the YOLOv8 format data settings on Colab\n",
    "from ultralytics import YOLO\n",
    "!cp /content/drive/MyDrive/ALICE/settings.yaml /root/.config/Ultralytics/"
   ],
   "metadata": {
    "id": "Y_hTnknRphzZ"
   },
   "execution_count": null,
   "outputs": []
  },
  {
   "cell_type": "markdown",
   "source": [
    "## try mask yolo x640 on dorsal images on specimen and labels"
   ],
   "metadata": {
    "id": "9AJCyg14eYbL"
   }
  },
  {
   "cell_type": "code",
   "source": [
    "from ultralytics import YOLO\n",
    "model = YOLO('yolov8m-seg.pt')\n",
    "model.train(data='/content/drive/MyDrive/ALICE/ALICE_lateral_dorsal/ALICE_dorsal_yolo_mask/ALICE_dorsal_mask.yaml',\n",
    "            device=0, epochs=1000, workers = 2, imgsz=640, batch=8, close_mosaic=1000, patience = 50,\n",
    "            project=\"/content/drive/MyDrive/ALICE/trains/\", name=\"mask_cropaug_v8m_x640\")"
   ],
   "metadata": {
    "colab": {
     "base_uri": "https://localhost:8080/"
    },
    "id": "t1a-J9-RPsv6",
    "outputId": "531bed2f-f1e0-4a5c-8e2e-463eb0668fcd",
    "collapsed": true
   },
   "execution_count": null,
   "outputs": []
  },
  {
   "cell_type": "markdown",
   "source": [
    "## try mask yolo x640 on dorsal images 3 classes"
   ],
   "metadata": {
    "id": "1ZlVRr5n0N-v"
   }
  },
  {
   "cell_type": "code",
   "source": [
    "from ultralytics import YOLO\n",
    "model = YOLO('yolov8m-seg.pt')\n",
    "model.train(data='/content/drive/MyDrive/ALICE/ALICE_lateral_dorsal/ALICE_dorsal_yolo_mask2/ALICE_dorsal_mask2.yaml',\n",
    "            device=0, epochs=1000, workers = 2, imgsz=640, batch=8, close_mosaic=1000, patience = 50,\n",
    "            project=\"/content/drive/MyDrive/ALICE/trains/\", name=\"mask2_cropaug_v8m_x640\")"
   ],
   "metadata": {
    "colab": {
     "base_uri": "https://localhost:8080/",
     "height": 1000
    },
    "id": "ZifAJPWc0Rr7",
    "outputId": "971f8f47-76af-4e3a-e11c-dc80620b3272"
   },
   "execution_count": null,
   "outputs": []
  },
  {
   "cell_type": "markdown",
   "source": [
    "## try mask yolo x640 training on all dorsal images"
   ],
   "metadata": {
    "id": "9qBVGlHZKD_M"
   }
  },
  {
   "cell_type": "code",
   "source": [
    "from ultralytics import YOLO\n",
    "model = YOLO('yolov8m-seg.pt')\n",
    "model.train(data='/content/drive/MyDrive/ALICE/ALICE_lateral_dorsal/ALICE_dorsal_yolo_mask_full/ALICE_dorsal_mask_full.yaml',\n",
    "            device=0, epochs=1000, workers = 2, imgsz=640, batch=8, close_mosaic=1000, patience = 50,\n",
    "            project=\"/content/drive/MyDrive/ALICE/trains/\", name=\"mask_full_cropaug_v8m_x640\")"
   ],
   "metadata": {
    "colab": {
     "base_uri": "https://localhost:8080/"
    },
    "id": "5MFzVL6IKHkT",
    "outputId": "d5350789-4c31-47e8-8379-59fbd182474a"
   },
   "execution_count": null,
   "outputs": []
  },
  {
   "cell_type": "markdown",
   "source": [
    "## rt_detr 3 classes x640 with boxes"
   ],
   "metadata": {
    "id": "gDx9Q3yd7_54"
   }
  },
  {
   "cell_type": "code",
   "source": [
    "from ultralytics import RTDETR\n",
    "model = RTDETR('rtdetr-l')\n",
    "model.train(data='/content/drive/MyDrive/ALICE/ALICE_lateral_dorsal/ALICE_dorsal_yolo_maskboxes/ALICE_dorsal_maskboxes.yaml',\n",
    "            device=0, epochs=1000, workers = 2, imgsz=640, batch=8, close_mosaic=1000, patience = 50,\n",
    "            project=\"/content/drive/MyDrive/ALICE/trains/\", name=\"mask_boxes_cropaug_rt-detr-l_x640\")"
   ],
   "metadata": {
    "colab": {
     "base_uri": "https://localhost:8080/"
    },
    "id": "PsufJ9mK8CLw",
    "outputId": "f7160700-d2fd-42a8-d936-23557bd49061"
   },
   "execution_count": null,
   "outputs": []
  },
  {
   "cell_type": "markdown",
   "source": [
    "## yolo mask x640 mosaic"
   ],
   "metadata": {
    "id": "naQdjA9hXCAZ"
   }
  },
  {
   "cell_type": "code",
   "source": [
    "from ultralytics import YOLO\n",
    "model = YOLO('yolov8m-seg.pt')\n",
    "model.train(data='/content/drive/MyDrive/ALICE/ALICE_lateral_dorsal/ALICE_dorsal_yolo_mask_full/ALICE_dorsal_mask_full.yaml',\n",
    "            device=0, epochs=200, workers = 2, imgsz=640, batch=8,\n",
    "            project=\"/content/drive/MyDrive/ALICE/trains/\", name=\"mask_full_mosaic_cropaug_v8m_x640\")"
   ],
   "metadata": {
    "colab": {
     "base_uri": "https://localhost:8080/"
    },
    "id": "MQkHKYVIW_XR",
    "outputId": "50505a34-2335-47d1-bf93-6c233d3c6cc4"
   },
   "execution_count": null,
   "outputs": []
  },
  {
   "cell_type": "markdown",
   "source": [
    "## Odo fine-tuning"
   ],
   "metadata": {
    "id": "1gnFXFtayAcS"
   }
  },
  {
   "cell_type": "code",
   "source": [
    "from ultralytics import YOLO\n",
    "model = YOLO(\"/content/drive/MyDrive/ALICE/trains/mask_full_mosaic_cropaug_v8m_x640/weights/best.pt\")\n",
    "model.train(data='/content/drive/MyDrive/ALICE/ALICE_other/ALICE_Odo/ALICE_other.yaml',\n",
    "            device=0, epochs=50, workers = 2, imgsz=640, batch=8, close_mosaic = 10,\n",
    "            project=\"/content/drive/MyDrive/ALICE/trains/\", name=\"mask_mosaic_finetuning_Odo_v8m_x640\")"
   ],
   "metadata": {
    "colab": {
     "base_uri": "https://localhost:8080/"
    },
    "id": "xUMjBSS5x_7V",
    "outputId": "9b2ec13c-4eed-44c0-e104-9e08b6d93b23",
    "collapsed": true
   },
   "execution_count": null,
   "outputs": []
  },
  {
   "cell_type": "code",
   "source": [
    "# change mosaic default to 9\n",
    "# /usr/local/lib/python3.10/dist-packages/ultralytics/data/augment.py, __init__, n=4->n=9\n",
    "from ultralytics import YOLO\n",
    "model = YOLO('yolov8m-seg.pt')\n",
    "model.train(data='/content/drive/MyDrive/ALICE/ALICE_other/ALICE_combine/ALICE_combine.yaml',\n",
    "            device=0, epochs=300, close_mosaic=30, workers = 2, imgsz=640, batch=8,\n",
    "            project=\"/content/drive/MyDrive/ALICE/trains/\", name=\"mask_combine_mosaic_v8m_x640\")"
   ],
   "metadata": {
    "colab": {
     "base_uri": "https://localhost:8080/"
    },
    "id": "Iu_ZaXcRjfw2",
    "outputId": "b24c17b6-603e-4902-a220-0ac15b095221"
   },
   "execution_count": null,
   "outputs": []
  },
  {
   "cell_type": "markdown",
   "source": [
    "## hybrid training 600 images 7:1.5:1.5"
   ],
   "metadata": {
    "id": "uX1Xu2XJe8Xq"
   }
  },
  {
   "cell_type": "code",
   "source": [
    "# change mosaic default to 9\n",
    "# /usr/local/lib/python3.10/dist-packages/ultralytics/data/augment.py, __init__, n=4->n=9\n",
    "from ultralytics import YOLO\n",
    "model = YOLO('yolov8m-seg.pt')\n",
    "model.train(data='/content/drive/MyDrive/ALICE/ALICE_other/ALICE_hybrid/ALICE_hybrid.yaml', resume=False,\n",
    "            device=0, epochs=300, close_mosaic=30, workers = 2, imgsz=640, batch=16, classes=[1,2,3],\n",
    "            project=\"/content/drive/MyDrive/ALICE/trains/\", name=\"mask_hybridfly_mosaic9_v8m_x640\")"
   ],
   "metadata": {
    "colab": {
     "base_uri": "https://localhost:8080/"
    },
    "id": "d58kafWSfAOC",
    "outputId": "47e70e3c-f73a-4234-aa71-b54a4f402640"
   },
   "execution_count": null,
   "outputs": []
  },
  {
   "cell_type": "markdown",
   "source": [
    "## hybrid training, refined with sampled images"
   ],
   "metadata": {
    "id": "far5VASSgunf"
   }
  },
  {
   "cell_type": "code",
   "source": [
    "# change mosaic default to 9\n",
    "# /usr/local/lib/python3.10/dist-packages/ultralytics/data/augment.py, __init__, n=4->n=9\n",
    "from ultralytics import YOLO\n",
    "model = YOLO('yolov8m-seg.pt')\n",
    "model.train(data='/content/drive/MyDrive/ALICE/ALICE_other/ALICE_hybrid_extra/ALICE_hybrid.yaml', resume=False,\n",
    "            device=0, epochs=300, close_mosaic=30, workers = 2, imgsz=640, batch=16, classes=[1,2,3],\n",
    "            project=\"/content/drive/MyDrive/ALICE/trains/\", name=\"mask_hybridextra_mosaic9_v8m_x640\")"
   ],
   "metadata": {
    "colab": {
     "base_uri": "https://localhost:8080/"
    },
    "id": "XJTo50VBgv4n",
    "outputId": "4df1234e-3c54-4ce3-9811-39eee55e692e"
   },
   "execution_count": null,
   "outputs": []
  }
 ]
}
