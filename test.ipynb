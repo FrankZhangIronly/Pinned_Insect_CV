{
 "cells": [
  {
   "cell_type": "code",
   "execution_count": 1,
   "metadata": {
    "collapsed": true,
    "ExecuteTime": {
     "end_time": "2024-04-16T12:08:58.525265300Z",
     "start_time": "2024-04-16T12:08:51.661924400Z"
    }
   },
   "outputs": [],
   "source": [
    "from ultralytics import YOLO\n",
    "\n",
    "# Load a model\n",
    "model = YOLO('./saved_pt/yolov8n-seg.pt')"
   ]
  },
  {
   "cell_type": "code",
   "execution_count": 1,
   "outputs": [],
   "source": [
    "from PIL import Image\n",
    "\n",
    "# Load the image\n",
    "original_image = Image.open('./data/Drag002_additional_3.jpg')\n",
    "\n",
    "# Define the new size\n",
    "new_width = 640\n",
    "new_height = 480\n",
    "\n",
    "# Resize the image\n",
    "resized_image = original_image.resize((new_width, new_height))\n",
    "\n",
    "# Save the resized image\n",
    "resized_image.save('./data/resized_image.jpg')"
   ],
   "metadata": {
    "collapsed": false,
    "ExecuteTime": {
     "end_time": "2024-04-05T18:27:36.523030800Z",
     "start_time": "2024-04-05T18:27:36.057339Z"
    }
   }
  },
  {
   "cell_type": "code",
   "execution_count": 9,
   "outputs": [
    {
     "name": "stdout",
     "output_type": "stream",
     "text": [
      "\n",
      "image 1/1 C:\\Users\\Frank\\Desktop\\ucl\\EDS\\0034final\\Pinned_Insect_CV\\data\\resized_image.jpg: 480x640 1 airplane, 44.9ms\n",
      "Speed: 4.0ms preprocess, 44.9ms inference, 4.0ms postprocess per image at shape (1, 3, 480, 640)\n"
     ]
    }
   ],
   "source": [
    "results = model('./data/resized_image.jpg')"
   ],
   "metadata": {
    "collapsed": false,
    "ExecuteTime": {
     "end_time": "2024-04-16T12:21:57.266466500Z",
     "start_time": "2024-04-16T12:21:57.186638700Z"
    }
   }
  },
  {
   "cell_type": "code",
   "execution_count": 10,
   "outputs": [
    {
     "data": {
      "text/plain": "'../result.jpg'"
     },
     "execution_count": 10,
     "metadata": {},
     "output_type": "execute_result"
    }
   ],
   "source": [
    "results[0].save(filename = '../result.jpg')"
   ],
   "metadata": {
    "collapsed": false,
    "ExecuteTime": {
     "end_time": "2024-04-16T12:21:58.116381100Z",
     "start_time": "2024-04-16T12:21:58.061265300Z"
    }
   }
  },
  {
   "cell_type": "code",
   "execution_count": null,
   "outputs": [],
   "source": [
    "model_cls = YOLO('yolov8n-cls.pt')  # load a pretrained model (recommended for training)\n",
    "results = model_cls('./data/resized_image.jpg')\n",
    "results[0].save(filename = '../result.jpg')"
   ],
   "metadata": {
    "collapsed": false
   }
  },
  {
   "cell_type": "code",
   "execution_count": 8,
   "outputs": [
    {
     "name": "stdout",
     "output_type": "stream",
     "text": [
      "\n",
      "image 1/1 C:\\Users\\Frank\\Desktop\\ucl\\EDS\\0034final\\Pinned_Insect_CV\\data\\resized_image.jpg: 224x224 warplane 0.09, syringe 0.08, mousetrap 0.07, matchstick 0.06, hair_slide 0.05, 8.4ms\n",
      "Speed: 167.7ms preprocess, 8.4ms inference, 0.0ms postprocess per image at shape (1, 3, 224, 224)\n"
     ]
    },
    {
     "data": {
      "text/plain": "'../result1.jpg'"
     },
     "execution_count": 8,
     "metadata": {},
     "output_type": "execute_result"
    }
   ],
   "source": [
    "model_det = YOLO('yolov8x.pt')  # load a pretrained model (recommended for training)\n",
    "results = model_cls('./data/resized_image.jpg', conf=0.0001)\n",
    "results[0].save(filename = '../result1.jpg')"
   ],
   "metadata": {
    "collapsed": false,
    "ExecuteTime": {
     "end_time": "2024-04-16T12:20:18.421602200Z",
     "start_time": "2024-04-16T12:20:17.871522200Z"
    }
   }
  },
  {
   "cell_type": "code",
   "execution_count": 17,
   "outputs": [],
   "source": [
    "from ultralytics.utils import ASSETS\n",
    "from ultralytics.models.rtdetr import RTDETRPredictor\n",
    "\n",
    "args = dict(model='./saved_pt/rtdetr-l.pt', source=ASSETS)\n",
    "predictor = RTDETRPredictor(overrides=args)"
   ],
   "metadata": {
    "collapsed": false,
    "ExecuteTime": {
     "end_time": "2024-04-16T13:56:21.865231400Z",
     "start_time": "2024-04-16T13:56:21.852961100Z"
    }
   }
  },
  {
   "cell_type": "code",
   "execution_count": 19,
   "outputs": [
    {
     "name": "stdout",
     "output_type": "stream",
     "text": [
      "\n",
      "image 1/1 C:\\Users\\Frank\\Desktop\\ucl\\EDS\\0034final\\Pinned_Insect_CV\\data\\resized_image.jpg: 640x640 3 umbrellas, 258.4ms\n",
      "Speed: 10.7ms preprocess, 258.4ms inference, 1.5ms postprocess per image at shape (1, 3, 640, 640)\n",
      "Results saved to \u001B[1mC:\\Users\\Frank\\Desktop\\ucl\\EDS\\0034final\\Pinned_insect_CV\\models\\ultralytics\\runs\\detect\\train2\u001B[0m\n"
     ]
    },
    {
     "data": {
      "text/plain": "[ultralytics.engine.results.Results object with attributes:\n \n boxes: ultralytics.engine.results.Boxes object\n keypoints: None\n masks: None\n names: {0: 'person', 1: 'bicycle', 2: 'car', 3: 'motorcycle', 4: 'airplane', 5: 'bus', 6: 'train', 7: 'truck', 8: 'boat', 9: 'traffic light', 10: 'fire hydrant', 11: 'stop sign', 12: 'parking meter', 13: 'bench', 14: 'bird', 15: 'cat', 16: 'dog', 17: 'horse', 18: 'sheep', 19: 'cow', 20: 'elephant', 21: 'bear', 22: 'zebra', 23: 'giraffe', 24: 'backpack', 25: 'umbrella', 26: 'handbag', 27: 'tie', 28: 'suitcase', 29: 'frisbee', 30: 'skis', 31: 'snowboard', 32: 'sports ball', 33: 'kite', 34: 'baseball bat', 35: 'baseball glove', 36: 'skateboard', 37: 'surfboard', 38: 'tennis racket', 39: 'bottle', 40: 'wine glass', 41: 'cup', 42: 'fork', 43: 'knife', 44: 'spoon', 45: 'bowl', 46: 'banana', 47: 'apple', 48: 'sandwich', 49: 'orange', 50: 'broccoli', 51: 'carrot', 52: 'hot dog', 53: 'pizza', 54: 'donut', 55: 'cake', 56: 'chair', 57: 'couch', 58: 'potted plant', 59: 'bed', 60: 'dining table', 61: 'toilet', 62: 'tv', 63: 'laptop', 64: 'mouse', 65: 'remote', 66: 'keyboard', 67: 'cell phone', 68: 'microwave', 69: 'oven', 70: 'toaster', 71: 'sink', 72: 'refrigerator', 73: 'book', 74: 'clock', 75: 'vase', 76: 'scissors', 77: 'teddy bear', 78: 'hair drier', 79: 'toothbrush'}\n obb: None\n orig_img: array([[[174, 173, 175],\n         [174, 173, 175],\n         [175, 174, 176],\n         ...,\n         [175, 175, 175],\n         [175, 175, 175],\n         [175, 175, 175]],\n \n        [[174, 173, 175],\n         [175, 174, 176],\n         [175, 174, 176],\n         ...,\n         [175, 175, 175],\n         [175, 175, 175],\n         [175, 175, 175]],\n \n        [[175, 174, 176],\n         [175, 174, 176],\n         [175, 174, 176],\n         ...,\n         [175, 175, 175],\n         [175, 175, 175],\n         [175, 175, 175]],\n \n        ...,\n \n        [[130, 132, 133],\n         [130, 132, 133],\n         [131, 133, 134],\n         ...,\n         [131, 133, 133],\n         [131, 133, 133],\n         [131, 133, 133]],\n \n        [[128, 130, 131],\n         [128, 130, 131],\n         [128, 130, 131],\n         ...,\n         [131, 133, 133],\n         [131, 133, 133],\n         [131, 133, 133]],\n \n        [[126, 128, 129],\n         [126, 128, 129],\n         [126, 128, 129],\n         ...,\n         [131, 133, 133],\n         [131, 133, 133],\n         [131, 133, 133]]], dtype=uint8)\n orig_shape: (480, 640)\n path: 'C:\\\\Users\\\\Frank\\\\Desktop\\\\ucl\\\\EDS\\\\0034final\\\\Pinned_Insect_CV\\\\data\\\\resized_image.jpg'\n probs: None\n save_dir: 'C:\\\\Users\\\\Frank\\\\Desktop\\\\ucl\\\\EDS\\\\0034final\\\\Pinned_insect_CV\\\\models\\\\ultralytics\\\\runs\\\\detect\\\\train2'\n speed: {'preprocess': 10.651826858520508, 'inference': 258.42976570129395, 'postprocess': 1.501321792602539}]"
     },
     "execution_count": 19,
     "metadata": {},
     "output_type": "execute_result"
    }
   ],
   "source": [
    "predictor(\"./data/resized_image.jpg\")"
   ],
   "metadata": {
    "collapsed": false,
    "ExecuteTime": {
     "end_time": "2024-04-16T13:59:45.120817600Z",
     "start_time": "2024-04-16T13:59:44.808212500Z"
    }
   }
  },
  {
   "cell_type": "code",
   "execution_count": null,
   "outputs": [],
   "source": [],
   "metadata": {
    "collapsed": false
   }
  }
 ],
 "metadata": {
  "kernelspec": {
   "display_name": "Python 3",
   "language": "python",
   "name": "python3"
  },
  "language_info": {
   "codemirror_mode": {
    "name": "ipython",
    "version": 2
   },
   "file_extension": ".py",
   "mimetype": "text/x-python",
   "name": "python",
   "nbconvert_exporter": "python",
   "pygments_lexer": "ipython2",
   "version": "2.7.6"
  }
 },
 "nbformat": 4,
 "nbformat_minor": 0
}
